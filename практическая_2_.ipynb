{
  "nbformat": 4,
  "nbformat_minor": 0,
  "metadata": {
    "colab": {
      "name": "практическая 2 .ipynb",
      "provenance": [],
      "collapsed_sections": []
    },
    "kernelspec": {
      "name": "python3",
      "display_name": "Python 3"
    }
  },
  "cells": [
    {
      "cell_type": "code",
      "metadata": {
        "id": "am8Srt76TM0w",
        "outputId": "395f790c-417b-4e23-baac-eb5b508a7138",
        "colab": {
          "base_uri": "https://localhost:8080/"
        }
      },
      "source": [
        "class SpaceShip:\n",
        "  def __init__(self):\n",
        "    self.hp=100\n",
        "    self.speed=13000\n",
        "    self.crew=64\n",
        "    self.power_reserve=560000\n",
        "\n",
        "  def __str__(self):\n",
        "      return \"SpaceShip: {};{};{};{}\".format(self.hp,self.speed,self.crew,self.power_reserve)\n",
        "\n",
        "  def draw(self):\n",
        "        print('+-|--------|-+')\n",
        "        print('+     ПП     +')\n",
        "        print('+     ПП     +')\n",
        "        print('+--П------П--+')\n",
        "\n",
        "class StarDestroyer(SpaceShip):\n",
        "  def __init__(self):\n",
        "    super().__init__()\n",
        "    self.shields=100\n",
        "    self.shields_enabled=False\n",
        "    self.weapons=[100]*15\n",
        "\n",
        "  def __str__(self):\n",
        "    return \"StarDestroyer:{};{}\".format (self.shields,self.weapons)\n",
        "\n",
        "  def shields_on(self):\n",
        "    self.shields_enabled=False\n",
        "\n",
        "  def hit(self):\n",
        "    if self.shields_enabled:\n",
        "        self.shields -=10\n",
        "    else:\n",
        "      self.hp -=10\n",
        "\n",
        "  def draw(self):\n",
        "    print(\"       /\\       \")\n",
        "    print(\"      /  \\      \")\n",
        "    print(\"     /    \\     \")\n",
        "    print(\"    / | |  \\    \")\n",
        "    print(\"   /  /..\\  \\   \")\n",
        "    print(\"+---+-----+----+\")\n",
        "    print(\"    |_|  |_|   \")\n",
        "\n",
        "k=SpaceShip()\n",
        "print(k.draw())\n",
        "\n",
        "p=StarDestroyer()\n",
        "print(p.draw())"
      ],
      "execution_count": null,
      "outputs": [
        {
          "output_type": "stream",
          "text": [
            "+-|--------|-+\n",
            "+     ПП     +\n",
            "+     ПП     +\n",
            "+--П------П--+\n",
            "None\n",
            "       /\\       \n",
            "      /  \\      \n",
            "     /    \\     \n",
            "    / | |  \\    \n",
            "   /  /..\\  \\   \n",
            "+---+-----+----+\n",
            "    |_|  |_|   \n",
            "None\n"
          ],
          "name": "stdout"
        }
      ]
    },
    {
      "cell_type": "markdown",
      "metadata": {
        "id": "3XGDs7qJQcbD"
      },
      "source": [
        "ПРАКТИЧЕСКАЯ РАБОТА "
      ]
    },
    {
      "cell_type": "markdown",
      "metadata": {
        "id": "6JXBqvnDhPkt"
      },
      "source": [
        "1 ЗАДАНИЕ\n"
      ]
    },
    {
      "cell_type": "code",
      "metadata": {
        "id": "CcJC2JAMa8Iq",
        "outputId": "3b16a3ae-7fc5-4443-bee9-a336e1900863",
        "colab": {
          "base_uri": "https://localhost:8080/",
          "height": 89
        }
      },
      "source": [
        "class First:\n",
        "  color=\"red\"\n",
        "  def out(self):\n",
        "    print(self.color + \"!\")\n",
        "\n",
        "obj1=First()\n",
        "obj2=First()\n",
        "\n",
        "print(obj1.color)\n",
        "print(obj2.color)\n",
        "obj1.out()\n",
        "obj2.out()\n"
      ],
      "execution_count": null,
      "outputs": [
        {
          "output_type": "stream",
          "text": [
            "red\n",
            "red\n",
            "red!\n",
            "red!\n"
          ],
          "name": "stdout"
        }
      ]
    },
    {
      "cell_type": "markdown",
      "metadata": {
        "id": "R7K3ba8FmP-8"
      },
      "source": [
        "2 ЗАДАНИЕ+свойство,метод,оъект\n",
        "\n",
        "> Блок с отступами\n",
        "\n"
      ]
    },
    {
      "cell_type": "code",
      "metadata": {
        "id": "TykdG7aGcD-v",
        "outputId": "b7bd82ed-085a-4cb0-831f-24748a0ed6d4",
        "colab": {
          "base_uri": "https://localhost:8080/",
          "height": 125
        }
      },
      "source": [
        "class Second:\n",
        "  color=\"red\"\n",
        "  form=\"cicrle\"\n",
        "  size=\"small\"\n",
        "  def changecolor (self,newcolor):\n",
        "    self.color=newcolor\n",
        "\n",
        "  def changeform(self,newform):\n",
        "   self.form=newform\n",
        "\n",
        "  def changesize(self,newsize):\n",
        "    self.size=newsize\n",
        "\n",
        "obj1=Second()\n",
        "obj2=Second()\n",
        "\n",
        "print(obj1.color,obj1.form,obj1.size)\n",
        "print(obj2.color,obj2.form,obj2.size)\n",
        "\n",
        "obj1.changecolor(\"green\")\n",
        "obj2.changecolor(\"blue\")\n",
        "obj2.changeform(\"oval\")\n",
        "\n",
        "print(obj1.color,obj1.form,obj1.size)\n",
        "print(obj2.color,obj2.form,obj2.size)\n",
        "\n",
        "obj3=Second()\n",
        "print(obj3.color,obj3.form,obj3.size)\n",
        "\n",
        "obj3.changesize(\"big\")\n",
        "obj3.changeform(\"triangle\")\n",
        "obj3.changecolor(\"yellow\")\n",
        "print(obj3.color,obj3.form,obj3.size)\n"
      ],
      "execution_count": null,
      "outputs": [
        {
          "output_type": "stream",
          "text": [
            "red cicrle small\n",
            "red cicrle small\n",
            "green cicrle small\n",
            "blue oval small\n",
            "red cicrle small\n",
            "purple triangle large\n"
          ],
          "name": "stdout"
        }
      ]
    },
    {
      "cell_type": "markdown",
      "metadata": {
        "id": "6aKANKiUG-x0"
      },
      "source": [
        "НАПИШИТЕ ПРОГРАММУ В СТИЛЕ ООП..."
      ]
    },
    {
      "cell_type": "code",
      "metadata": {
        "id": "lROQ1yCKHH0G",
        "outputId": "447b9e01-9b9c-4adc-f18d-3e6a7651a076",
        "colab": {
          "base_uri": "https://localhost:8080/",
          "height": 84
        }
      },
      "source": [
        "class animal:\n",
        "  def __init__(self, w, n, a):\n",
        "    self.what=w\n",
        "    self.name=n\n",
        "    self.activity=a\n",
        "  def about(self):\n",
        "      print(self.what, self.name, self.activity)\n",
        "class game:\n",
        "  def play(self,activity):\n",
        "    if activity==\"играл с мячом\": \n",
        "     print(\"потерел мяч\")\n",
        "    else:\n",
        "      print(\"не потерял мяч\")\n",
        "q=game()\n",
        "a1=animal(\"тигр\",\"леонтий\",\"плавал\")\n",
        "a1.about()\n",
        "q.play(a1.activity)\n",
        "a2=animal(\"лев\",\"эдуард\",\"играл с мячом\")\n",
        "a2.about()\n",
        "q.play(a2.activity)\n"
      ],
      "execution_count": 3,
      "outputs": [
        {
          "output_type": "stream",
          "text": [
            "тигр леонтий плавал\n",
            "не потерял мяч\n",
            "лев эдуард играл с мячом\n",
            "потерел мяч\n"
          ],
          "name": "stdout"
        }
      ]
    },
    {
      "cell_type": "markdown",
      "metadata": {
        "id": "_UT61h1NhZDW"
      },
      "source": [
        "3 ЗАДАНИЕ"
      ]
    },
    {
      "cell_type": "code",
      "metadata": {
        "id": "rrDzseddjaaB",
        "outputId": "7e56ae11-d004-421f-ff62-9360ec674718",
        "colab": {
          "base_uri": "https://localhost:8080/",
          "height": 50
        }
      },
      "source": [
        "class YesInit: \n",
        "  def __init__(self,one,two):\n",
        "     self.fname=one \n",
        "     self.sname=two \n",
        "\n",
        "obj1=YesInit (\"Peter  \",\" Ok \") \n",
        "\n",
        "print(obj1.fname, obj1.sname) \n",
        "\n",
        "class NoInit: \n",
        "  def names (self, one, two): \n",
        "    self.fname=one \n",
        "    self.sname= two\n",
        "    \n",
        "obj1=NoInit()\n",
        "obj1.names(\"Peter\",\"Ok\")  \n",
        "\n",
        "print(obj1.fname, obj1.sname)\n"
      ],
      "execution_count": 4,
      "outputs": [
        {
          "output_type": "stream",
          "text": [
            "Peter    Ok \n",
            "Peter Ok\n"
          ],
          "name": "stdout"
        }
      ]
    },
    {
      "cell_type": "markdown",
      "metadata": {
        "id": "GmqqzWakhh2D"
      },
      "source": [
        "4 ЗАДАНИЕ"
      ]
    },
    {
      "cell_type": "code",
      "metadata": {
        "id": "SFzWrfigLJU3",
        "outputId": "0304cb3c-306d-4f80-fdba-4ad88de744b1",
        "colab": {
          "base_uri": "https://localhost:8080/",
          "height": 89
        }
      },
      "source": [
        "class YesInit:\n",
        "  def __init__(self,one=\"noname\",two=\"nonametoo\"):\n",
        "    self.fname=one\n",
        "    self.sname=two\n",
        "\n",
        "obj1=YesInit(\"Sasha\",\"Tu\")\n",
        "obj2=YesInit()\n",
        "obj3=YesInit(\"Spartak\")\n",
        "obj4=YesInit(two=\"Harry\")\n",
        "\n",
        "print(obj1.fname,obj1.sname)\n",
        "print(obj2.fname,obj2.sname)\n",
        "print(obj3.fname,obj3.sname)\n",
        "print(obj4.fname,obj3.sname)"
      ],
      "execution_count": null,
      "outputs": [
        {
          "output_type": "stream",
          "text": [
            "Sasha Tu\n",
            "noname nonametoo\n",
            "Spartak nonametoo\n",
            "noname nonametoo\n"
          ],
          "name": "stdout"
        }
      ]
    },
    {
      "cell_type": "markdown",
      "metadata": {
        "id": "J9JH-ARehsO1"
      },
      "source": [
        "6 ЗАДАНИЕ"
      ]
    },
    {
      "cell_type": "code",
      "metadata": {
        "id": "qEjO2YRfSKCP",
        "outputId": "74b059a4-e566-4b4e-d288-b3a5b799ecea",
        "colab": {
          "base_uri": "https://localhost:8080/"
        }
      },
      "source": [
        "class Building:\n",
        "  def __init__(self,w,c,n=0):\n",
        "    self.what=w\n",
        "    self.colour=c\n",
        "    self.numbers=n\n",
        "    self.mwhere(n)\n",
        "\n",
        "  def mwhere(self,n):\n",
        "    if n <= 0:\n",
        "      self.where=\"отсутсвует\"\n",
        "    elif 0<n<100:\n",
        "      self.where=\"малый склад\"\n",
        "    else:\n",
        "      self.where=\"основной склад\"\n",
        "  def plus(self,p):\n",
        "    self.numbers=self.numbers+p\n",
        "    self.mwhere(self.numbers)\n",
        "  def minus(self,m):\n",
        "    self.numbers=self.numbers-m\n",
        "    self.mwhere(self.numbers)\n",
        "\n",
        "m1=Building(\"доски\",\"белые\",50)\n",
        "m2=Building(\"доски\",\"коричневые\",300)\n",
        "m3=Building(\"кирпичи\",\"белые\")\n",
        "\n",
        "print(m1.what,m1.colour,m1.where)\n",
        "print(m2.what,m2.colour,m2.where)\n",
        "print(m3.what,m3.colour,m3.where)\n",
        "\n",
        "m1.plus(500)\n",
        "print(m1.numbers,m1.where)"
      ],
      "execution_count": null,
      "outputs": [
        {
          "output_type": "stream",
          "text": [
            "доски белые малый склад\n",
            "доски коричневые основной склад\n",
            "кирпичи белые отсутсвует\n",
            "550 основной склад\n"
          ],
          "name": "stdout"
        }
      ]
    },
    {
      "cell_type": "markdown",
      "metadata": {
        "id": "joqEMiQrh1GR"
      },
      "source": [
        "САМОСТОЯТЕЛЬНО ПРИДУМАЙТЕ КЛАСС,СОДЕРЖАЩИЙ КОНСТРУКТОР.СОЗДАЙТЕ НА ЕГО ОСНОВЕ НЕСКОЛЬКО ОБЪЕКТОВ."
      ]
    },
    {
      "cell_type": "code",
      "metadata": {
        "id": "_A7eCE5ufwPR",
        "outputId": "a7ab7c1b-4526-4af8-8b97-abdf5ca4076f",
        "colab": {
          "base_uri": "https://localhost:8080/",
          "height": 50
        }
      },
      "source": [
        "class car:\n",
        "  def __init__(self,m,p):\n",
        "    self.model=m\n",
        "    self.price=p\n",
        "\n",
        "t1=car(\"bmw x6\",13000000)\n",
        "t2=car(\"toyota camry 2019\", 6000000)\n",
        "\n",
        "print(t1.model,t1.price)\n",
        "print(t2.model,t2.price)\n"
      ],
      "execution_count": 5,
      "outputs": [
        {
          "output_type": "stream",
          "text": [
            "bmw x6 13000000\n",
            "toyota camry 2019 6000000\n"
          ],
          "name": "stdout"
        }
      ]
    },
    {
      "cell_type": "markdown",
      "metadata": {
        "id": "zoG0syldjDVa"
      },
      "source": [
        "7 ЗАДАНИЕ"
      ]
    },
    {
      "cell_type": "code",
      "metadata": {
        "id": "14F1QYpnizK0",
        "outputId": "25a3ff51-25d3-45d5-b528-62be64f84016",
        "colab": {
          "base_uri": "https://localhost:8080/",
          "height": 84
        }
      },
      "source": [
        "class Things:\n",
        "  def __init__(self,n,t):\n",
        "    self.namething=n\n",
        "    self.total=t\n",
        "\n",
        "th1=Things(\"table\",5)\n",
        "th2=Things(\"computer\",7)\n",
        "\n",
        "print(th1.namething,th1.total)\n",
        "print(th2.namething,th2.total)\n",
        "\n",
        "th1.colour=\"green\"\n",
        "th2.colour=\"pink\"\n",
        "\n",
        "\n",
        "print(th1.namething,th1.total,th1.colour)\n",
        "print(th2.namething,th2.total,th2.colour)"
      ],
      "execution_count": 6,
      "outputs": [
        {
          "output_type": "stream",
          "text": [
            "table 5\n",
            "computer 7\n",
            "table 5 green\n",
            "computer 7 pink\n"
          ],
          "name": "stdout"
        }
      ]
    },
    {
      "cell_type": "markdown",
      "metadata": {
        "id": "TlD3w91blfHE"
      },
      "source": [
        "8 ЗАДАНИЕ"
      ]
    },
    {
      "cell_type": "code",
      "metadata": {
        "id": "3ZUavht5lHsF",
        "outputId": "30c5fc05-b93e-4b9c-bf37-f7830631a7b2",
        "colab": {
          "base_uri": "https://localhost:8080/",
          "height": 67
        }
      },
      "source": [
        "class Table:\n",
        "  def __init__(self,l,w,h):\n",
        "    self.long=l\n",
        "    self.width=w\n",
        "    self.height=h\n",
        "\n",
        "  def outing(self):\n",
        "    print(self.long,self.width,self.height)\n",
        "\n",
        "class Kitchen(Table):\n",
        "  def howplaces(self,n):\n",
        "    if n<2:\n",
        "      print(\"It is not kitchen table\")\n",
        "    else:\n",
        "      self.places=n\n",
        "\n",
        "  def outplaces(self):\n",
        "    print(self.places)\n",
        "\n",
        "t_room1=Kitchen(2,1,0.5)\n",
        "t_room1.outing()\n",
        "t_room1.howplaces(5)\n",
        "t_room1.outplaces()\n",
        "\n",
        "t_2=Table(1,3,0.7)\n",
        "t_2.outing()\n",
        "\n",
        "class Worker(Table):\n",
        "  def backlight(self,g):\n",
        "    if g==\"red\":\n",
        "      print(\"это стол плеера\")\n",
        "    else:\n",
        "      print(\"уставание от подстветки\")\n"
      ],
      "execution_count": 7,
      "outputs": [
        {
          "output_type": "stream",
          "text": [
            "2 1 0.5\n",
            "5\n",
            "1 3 0.7\n"
          ],
          "name": "stdout"
        }
      ]
    }
  ]
}