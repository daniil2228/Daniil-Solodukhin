{
  "nbformat": 4,
  "nbformat_minor": 0,
  "metadata": {
    "colab": {
      "name": "Лаба 6",
      "provenance": [],
      "collapsed_sections": [
        "7aUdMlKSfFBm",
        "2OKja8ykYS9o"
      ],
      "include_colab_link": true
    },
    "kernelspec": {
      "name": "python3",
      "display_name": "Python 3"
    },
    "language_info": {
      "name": "python"
    }
  },
  "cells": [
    {
      "cell_type": "markdown",
      "metadata": {
        "id": "view-in-github",
        "colab_type": "text"
      },
      "source": [
        "<a href=\"https://colab.research.google.com/github/daniil2228/Daniil-Solodukhin/blob/main/%D0%9B%D0%B0%D0%B1%D0%B0_6.ipynb\" target=\"_parent\"><img src=\"https://colab.research.google.com/assets/colab-badge.svg\" alt=\"Open In Colab\"/></a>"
      ]
    },
    {
      "cell_type": "markdown",
      "metadata": {
        "id": "7aUdMlKSfFBm"
      },
      "source": [
        "# **Пробы теории**"
      ]
    },
    {
      "cell_type": "markdown",
      "metadata": {
        "id": "hfx6zDXqfRld"
      },
      "source": [
        "Тестовый набор данных"
      ]
    },
    {
      "cell_type": "code",
      "metadata": {
        "colab": {
          "base_uri": "https://localhost:8080/"
        },
        "id": "PzhEVwBbet8W",
        "outputId": "07529027-e67c-4c32-a0f5-bd0e99a989bc"
      },
      "source": [
        "from numpy.random import seed\n",
        "from numpy.random import randn\n",
        "from numpy import mean\n",
        "from numpy import std #среднеквадратичное (стандартное) отклонение значений элементов массива\n",
        "\n",
        "seed(1) # инициализирует генератор или по другому - задает его начальное состояние\n",
        "data = 5 * randn(100) + 50\n",
        "print('mean=%.3f stdv=%.3f' % (mean(data), std(data)))"
      ],
      "execution_count": null,
      "outputs": [
        {
          "output_type": "stream",
          "text": [
            "mean=50.303 stdv=4.426\n"
          ],
          "name": "stdout"
        }
      ]
    },
    {
      "cell_type": "markdown",
      "metadata": {
        "id": "F9_O4ltzhm0O"
      },
      "source": [
        "**Визуальные проверки нормальности**"
      ]
    },
    {
      "cell_type": "markdown",
      "metadata": {
        "id": "reKJp6C7hwwk"
      },
      "source": [
        "График гистограммы"
      ]
    },
    {
      "cell_type": "code",
      "metadata": {
        "colab": {
          "base_uri": "https://localhost:8080/",
          "height": 265
        },
        "id": "5BTqv9iehrQP",
        "outputId": "62eed41c-bda4-4660-bf52-02f7b442ee52"
      },
      "source": [
        "from numpy.random import seed\n",
        "from numpy.random import randn\n",
        "from matplotlib import pyplot\n",
        "\n",
        "seed(1)\n",
        "data = 5 * randn(100) + 50\n",
        "pyplot.hist(data)\n",
        "pyplot.show()"
      ],
      "execution_count": null,
      "outputs": [
        {
          "output_type": "display_data",
          "data": {
            "image/png": "[encoded data removed]",
            "text/plain": [
              "<Figure size 432x288 with 1 Axes>"
            ]
          },
          "metadata": {
            "tags": [],
            "needs_background": "light"
          }
        }
      ]
    },
    {
      "cell_type": "markdown",
      "metadata": {
        "id": "88NXv6ocicp6"
      },
      "source": [
        "График QQ"
      ]
    },
    {
      "cell_type": "code",
      "metadata": {
        "colab": {
          "base_uri": "https://localhost:8080/",
          "height": 279
        },
        "id": "bZ__bo9AisJw",
        "outputId": "009b0ac3-0b3e-45c9-92bb-1d095370884d"
      },
      "source": [
        "from numpy.random import seed\n",
        "from numpy.random import randn\n",
        "from statsmodels.graphics.gofplots import qqplot\n",
        "from matplotlib import pyplot\n",
        "\n",
        "seed(1)\n",
        "data = 5 * randn(100) + 50\n",
        "qqplot(data, line = 's')\n",
        "pyplot.show()"
      ],
      "execution_count": null,
      "outputs": [
        {
          "output_type": "display_data",
          "data": {
            "image/png": "[encoded data removed]",
            "text/plain": [
              "<Figure size 432x288 with 1 Axes>"
            ]
          },
          "metadata": {
            "tags": [],
            "needs_background": "light"
          }
        }
      ]
    },
    {
      "cell_type": "markdown",
      "metadata": {
        "id": "FV-Vmu3MjaaW"
      },
      "source": [
        "**Статистические тесты нормальности**"
      ]
    },
    {
      "cell_type": "markdown",
      "metadata": {
        "id": "JYzCwAenjnZA"
      },
      "source": [
        "Тест Шапиро-Вилка"
      ]
    },
    {
      "cell_type": "code",
      "metadata": {
        "colab": {
          "base_uri": "https://localhost:8080/"
        },
        "id": "h9GOxwy8jfb_",
        "outputId": "f67e6f92-9fdc-45ac-b064-8ebf0a355b56"
      },
      "source": [
        "from numpy.random import seed\n",
        "from numpy.random import randn\n",
        "from scipy.stats import shapiro\n",
        "\n",
        "seed(1)\n",
        "data = 5 * randn(100) + 50\n",
        "stat, p = shapiro(data)\n",
        "print('Statistics=%.3f, p = %.3f' % (stat, p))\n",
        "\n",
        "alpha = 0.05\n",
        "if p > alpha:\n",
        "  print('Sample looks Gaussian (fail to reject HO)')\n",
        "else:\n",
        "  print('Sample does not look Gaussian (reject HO)')"
      ],
      "execution_count": null,
      "outputs": [
        {
          "output_type": "stream",
          "text": [
            "Statistics=0.992, p = 0.822\n",
            "Sample looks Gaussian (fail to reject HO)\n"
          ],
          "name": "stdout"
        }
      ]
    },
    {
      "cell_type": "markdown",
      "metadata": {
        "id": "4b_oLcPNv252"
      },
      "source": [
        "Тест д'Агостино на K ^ 2"
      ]
    },
    {
      "cell_type": "code",
      "metadata": {
        "colab": {
          "base_uri": "https://localhost:8080/"
        },
        "id": "jC3fpipyv3tD",
        "outputId": "de127be1-51fc-488c-ec94-916e7f46f3d3"
      },
      "source": [
        "from numpy.random import seed\n",
        "from numpy.random import randn\n",
        "from scipy.stats import normaltest\n",
        "\n",
        "seed(1)\n",
        "data = 5 * randn(100) + 50\n",
        "stat, p = normaltest(data)\n",
        "print('Statistics=%.3f, p = %.3f' % (stat, p))\n",
        "\n",
        "alpha = 0.05\n",
        "if p > alpha:\n",
        "  print('Sample looks Gaussian (fail to reject HO)')\n",
        "else:\n",
        "  print('Sample does not look Gaussian (reject HO)')"
      ],
      "execution_count": null,
      "outputs": [
        {
          "output_type": "stream",
          "text": [
            "Statistics=0.102, p = 0.950\n",
            "Sample looks Gaussian (fail to reject HO)\n"
          ],
          "name": "stdout"
        }
      ]
    },
    {
      "cell_type": "markdown",
      "metadata": {
        "id": "e6qwqfGGwoHg"
      },
      "source": [
        "Тест Андерсона-Дарлинга"
      ]
    },
    {
      "cell_type": "code",
      "metadata": {
        "colab": {
          "base_uri": "https://localhost:8080/"
        },
        "id": "0FvernEFwpeV",
        "outputId": "f3061ed1-3c23-4dc0-9fd5-4b82ff823194"
      },
      "source": [
        "from numpy.random import seed\n",
        "from numpy.random import randn\n",
        "from scipy.stats import anderson\n",
        "\n",
        "seed(1)\n",
        "data = 5 * randn(100) + 50\n",
        "result = anderson(data)\n",
        "print('Statistic: %.3f' % result.statistic)\n",
        "\n",
        "p = 0\n",
        "for i in range(len(result.critical_values)):\n",
        "  sl, cv = result.significance_level[i], result.critical_values[i]\n",
        "  if result.statistic < result.critical_values[i]:\n",
        "    print('%.3f: %.3f, data looks normal (fail to reject HO)' % (sl, cv))\n",
        "  else:\n",
        "    print('%.3f: %.3f, data does not look normal (reject HO)' % (sl, cv))"
      ],
      "execution_count": null,
      "outputs": [
        {
          "output_type": "stream",
          "text": [
            "Statistic: 0.220\n",
            "15.000: 0.555, data looks normal (fail to reject HO)\n",
            "10.000: 0.632, data looks normal (fail to reject HO)\n",
            "5.000: 0.759, data looks normal (fail to reject HO)\n",
            "2.500: 0.885, data looks normal (fail to reject HO)\n",
            "1.000: 1.053, data looks normal (fail to reject HO)\n"
          ],
          "name": "stdout"
        }
      ]
    },
    {
      "cell_type": "markdown",
      "metadata": {
        "id": "NE6rhglQAF1v"
      },
      "source": [
        "# **Индивидуальное задание**"
      ]
    },
    {
      "cell_type": "markdown",
      "metadata": {
        "id": "stRdBeMUAM33"
      },
      "source": [
        "Вариант 1. неструктурированных данных: использование данных с веб-страницы,\n",
        "обеспечивающей информацией о самых кассовых фильмах России.\n",
        "Highest-grossing Russian films\n",
        " (https://en.wikipedia.org/wiki/Cinema_of_Russia#List_of_highest-grossing_films)"
      ]
    },
    {
      "cell_type": "code",
      "metadata": {
        "colab": {
          "base_uri": "https://localhost:8080/",
          "height": 194
        },
        "id": "gVNmzEhUAJ7w",
        "outputId": "3eeeb829-422d-496e-c84a-6da65e894e4f"
      },
      "source": [
        "import requests\n",
        "import pandas as pd\n",
        "import seaborn as sns\n",
        "import matplotlib.pyplot as plt\n",
        "#Importing the data from the webpage into a DataFrame\n",
        "url='https://en.wikipedia.org/wiki/Cinema_of_Russia#List_of_highest-grossing_films'\n",
        "req=requests.get(url)\n",
        "data=pd.read_html(req.text)\n",
        "df=data[1]\n",
        "df.head()"
      ],
      "execution_count": null,
      "outputs": [
        {
          "output_type": "execute_result",
          "data": {
            "text/html": [
              "<div>\n",
              "<style scoped>\n",
              "    .dataframe tbody tr th:only-of-type {\n",
              "        vertical-align: middle;\n",
              "    }\n",
              "\n",
              "    .dataframe tbody tr th {\n",
              "        vertical-align: top;\n",
              "    }\n",
              "\n",
              "    .dataframe thead th {\n",
              "        text-align: right;\n",
              "    }\n",
              "</style>\n",
              "<table border=\"1\" class=\"dataframe\">\n",
              "  <thead>\n",
              "    <tr style=\"text-align: right;\">\n",
              "      <th></th>\n",
              "      <th>Rank</th>\n",
              "      <th>Title</th>\n",
              "      <th>Gross</th>\n",
              "      <th>Year</th>\n",
              "      <th>Genre</th>\n",
              "      <th>Details</th>\n",
              "      <th>Director</th>\n",
              "    </tr>\n",
              "  </thead>\n",
              "  <tbody>\n",
              "    <tr>\n",
              "      <th>0</th>\n",
              "      <td>1</td>\n",
              "      <td>Сталинград Stalingrad</td>\n",
              "      <td>$68,075,573</td>\n",
              "      <td>2013</td>\n",
              "      <td>War</td>\n",
              "      <td>A World War II film about Battle of Stalingrad</td>\n",
              "      <td>Fyodor Bondarchuk</td>\n",
              "    </tr>\n",
              "    <tr>\n",
              "      <th>1</th>\n",
              "      <td>2</td>\n",
              "      <td>Движение Вверх Going Vertical</td>\n",
              "      <td>$66,000,000</td>\n",
              "      <td>2017</td>\n",
              "      <td>Sports drama</td>\n",
              "      <td>About 1972 Olympic Men's Basketball Final</td>\n",
              "      <td>Anton Megerdichev</td>\n",
              "    </tr>\n",
              "    <tr>\n",
              "      <th>2</th>\n",
              "      <td>3</td>\n",
              "      <td>Ирония судьбы. Продолжение Irony of Fate: The ...</td>\n",
              "      <td>$55,639,114</td>\n",
              "      <td>2007</td>\n",
              "      <td>Romantic comedy</td>\n",
              "      <td>A Christmas film, the sequel to a 1976 film of...</td>\n",
              "      <td>Timur Bekmambetov</td>\n",
              "    </tr>\n",
              "    <tr>\n",
              "      <th>3</th>\n",
              "      <td>4</td>\n",
              "      <td>Холоп Serf</td>\n",
              "      <td>$47,500,000</td>\n",
              "      <td>2019</td>\n",
              "      <td>Comedy</td>\n",
              "      <td>NaN</td>\n",
              "      <td>Klim Shipenko</td>\n",
              "    </tr>\n",
              "    <tr>\n",
              "      <th>4</th>\n",
              "      <td>5</td>\n",
              "      <td>Дневной дозор Day Watch</td>\n",
              "      <td>$42,918,532</td>\n",
              "      <td>2006</td>\n",
              "      <td>Fantasy</td>\n",
              "      <td>Based on urban fantasy book series Dozory by S...</td>\n",
              "      <td>Timur Bekmambetov</td>\n",
              "    </tr>\n",
              "  </tbody>\n",
              "</table>\n",
              "</div>"
            ],
            "text/plain": [
              "   Rank  ...           Director\n",
              "0     1  ...  Fyodor Bondarchuk\n",
              "1     2  ...  Anton Megerdichev\n",
              "2     3  ...  Timur Bekmambetov\n",
              "3     4  ...      Klim Shipenko\n",
              "4     5  ...  Timur Bekmambetov\n",
              "\n",
              "[5 rows x 7 columns]"
            ]
          },
          "metadata": {
            "tags": []
          },
          "execution_count": 20
        }
      ]
    },
    {
      "cell_type": "markdown",
      "metadata": {
        "id": "tAAGnxqdCQ0A"
      },
      "source": [
        "Так как для проверки нормальности данных нам нужны только числовые столбцы, избавимся от всего лишнего, почистим числовые данные, поработаем с их форматом."
      ]
    },
    {
      "cell_type": "code",
      "metadata": {
        "colab": {
          "base_uri": "https://localhost:8080/"
        },
        "id": "Vs1S3DtrCdVi",
        "outputId": "1e51ad68-d007-4933-d22a-312cf5dddddf"
      },
      "source": [
        "df.info()"
      ],
      "execution_count": null,
      "outputs": [
        {
          "output_type": "stream",
          "text": [
            "<class 'pandas.core.frame.DataFrame'>\n",
            "RangeIndex: 30 entries, 0 to 29\n",
            "Data columns (total 7 columns):\n",
            " #   Column    Non-Null Count  Dtype \n",
            "---  ------    --------------  ----- \n",
            " 0   Rank      30 non-null     int64 \n",
            " 1   Title     30 non-null     object\n",
            " 2   Gross     30 non-null     object\n",
            " 3   Year      30 non-null     int64 \n",
            " 4   Genre     30 non-null     object\n",
            " 5   Details   26 non-null     object\n",
            " 6   Director  30 non-null     object\n",
            "dtypes: int64(2), object(5)\n",
            "memory usage: 1.8+ KB\n"
          ],
          "name": "stdout"
        }
      ]
    },
    {
      "cell_type": "code",
      "metadata": {
        "id": "PF-IIySICu4I"
      },
      "source": [
        "df['Gross']=df['Gross'].str.replace(r\"$\",\"\").str.replace(r\",\",\"\")"
      ],
      "execution_count": null,
      "outputs": []
    },
    {
      "cell_type": "code",
      "metadata": {
        "colab": {
          "base_uri": "https://localhost:8080/"
        },
        "id": "kWzKG677C-So",
        "outputId": "92c89d5d-d9f9-4a3a-f119-c6b3d8007da4"
      },
      "source": [
        "df['Gross']=df['Gross'].astype('int64')\n",
        "df.info()"
      ],
      "execution_count": null,
      "outputs": [
        {
          "output_type": "stream",
          "text": [
            "<class 'pandas.core.frame.DataFrame'>\n",
            "RangeIndex: 30 entries, 0 to 29\n",
            "Data columns (total 7 columns):\n",
            " #   Column    Non-Null Count  Dtype \n",
            "---  ------    --------------  ----- \n",
            " 0   Rank      30 non-null     int64 \n",
            " 1   Title     30 non-null     object\n",
            " 2   Gross     30 non-null     int64 \n",
            " 3   Year      30 non-null     int64 \n",
            " 4   Genre     30 non-null     object\n",
            " 5   Details   26 non-null     object\n",
            " 6   Director  30 non-null     object\n",
            "dtypes: int64(3), object(4)\n",
            "memory usage: 1.8+ KB\n"
          ],
          "name": "stdout"
        }
      ]
    },
    {
      "cell_type": "code",
      "metadata": {
        "id": "2ZEpsCvdDN_c"
      },
      "source": [
        "df.drop(['Rank','Title', 'Genre', 'Details', 'Director'],axis=1,inplace=True)"
      ],
      "execution_count": null,
      "outputs": []
    },
    {
      "cell_type": "markdown",
      "metadata": {
        "id": "2sKRb3NVD5rD"
      },
      "source": [
        "Теперь у нас остались только числовые столбцы (года и доходность) и столбец индексов, так работать будет удобнее и проще."
      ]
    },
    {
      "cell_type": "code",
      "metadata": {
        "colab": {
          "base_uri": "https://localhost:8080/",
          "height": 194
        },
        "id": "f6lN4G9kEEog",
        "outputId": "c8afb5bc-a5c4-4df3-c187-97d4f42a6fa4"
      },
      "source": [
        "df.head()"
      ],
      "execution_count": null,
      "outputs": [
        {
          "output_type": "execute_result",
          "data": {
            "text/html": [
              "<div>\n",
              "<style scoped>\n",
              "    .dataframe tbody tr th:only-of-type {\n",
              "        vertical-align: middle;\n",
              "    }\n",
              "\n",
              "    .dataframe tbody tr th {\n",
              "        vertical-align: top;\n",
              "    }\n",
              "\n",
              "    .dataframe thead th {\n",
              "        text-align: right;\n",
              "    }\n",
              "</style>\n",
              "<table border=\"1\" class=\"dataframe\">\n",
              "  <thead>\n",
              "    <tr style=\"text-align: right;\">\n",
              "      <th></th>\n",
              "      <th>Gross</th>\n",
              "      <th>Year</th>\n",
              "    </tr>\n",
              "  </thead>\n",
              "  <tbody>\n",
              "    <tr>\n",
              "      <th>0</th>\n",
              "      <td>68075573</td>\n",
              "      <td>2013</td>\n",
              "    </tr>\n",
              "    <tr>\n",
              "      <th>1</th>\n",
              "      <td>66000000</td>\n",
              "      <td>2017</td>\n",
              "    </tr>\n",
              "    <tr>\n",
              "      <th>2</th>\n",
              "      <td>55639114</td>\n",
              "      <td>2007</td>\n",
              "    </tr>\n",
              "    <tr>\n",
              "      <th>3</th>\n",
              "      <td>47500000</td>\n",
              "      <td>2019</td>\n",
              "    </tr>\n",
              "    <tr>\n",
              "      <th>4</th>\n",
              "      <td>42918532</td>\n",
              "      <td>2006</td>\n",
              "    </tr>\n",
              "  </tbody>\n",
              "</table>\n",
              "</div>"
            ],
            "text/plain": [
              "      Gross  Year\n",
              "0  68075573  2013\n",
              "1  66000000  2017\n",
              "2  55639114  2007\n",
              "3  47500000  2019\n",
              "4  42918532  2006"
            ]
          },
          "metadata": {
            "tags": []
          },
          "execution_count": 25
        }
      ]
    },
    {
      "cell_type": "markdown",
      "metadata": {
        "id": "o4OIPjNdEpZC"
      },
      "source": [
        "Для применения статистических методовов преобразуем наш DataFrame в массив numpy"
      ]
    },
    {
      "cell_type": "code",
      "metadata": {
        "colab": {
          "base_uri": "https://localhost:8080/"
        },
        "id": "vKqxAIkIEszu",
        "outputId": "c4013bac-d9e4-4e17-93ce-0f58882dd563"
      },
      "source": [
        "import numpy as np\n",
        "nmp_gross = df['Gross'].to_numpy()\n",
        "nmp_year = df['Year'].to_numpy()\n",
        "nmp_gross"
      ],
      "execution_count": null,
      "outputs": [
        {
          "output_type": "execute_result",
          "data": {
            "text/plain": [
              "array([68075573, 66000000, 55639114, 47500000, 42918532, 39539416,\n",
              "       38135878, 38067427, 33951015, 31505876, 30496695, 29523237,\n",
              "       27908763, 27544905, 26231525, 25646739, 25555809, 24965362,\n",
              "       24830497, 23305571, 22772019, 22213287, 21500000, 21015154,\n",
              "       20962988, 19390136, 19010585, 18500000, 18400000, 17808683])"
            ]
          },
          "metadata": {
            "tags": []
          },
          "execution_count": 32
        }
      ]
    },
    {
      "cell_type": "markdown",
      "metadata": {
        "id": "M1DiIMhqH2H4"
      },
      "source": [
        "**Визуальные проверки нормальности**"
      ]
    },
    {
      "cell_type": "markdown",
      "metadata": {
        "id": "F-GbCR1vIC3f"
      },
      "source": [
        "***График гистограммы***"
      ]
    },
    {
      "cell_type": "code",
      "metadata": {
        "colab": {
          "base_uri": "https://localhost:8080/",
          "height": 295
        },
        "id": "8Plesl0wH95X",
        "outputId": "a1054e7a-b796-48c1-a2fd-3f180e31406b"
      },
      "source": [
        "nmp_gross_sorted = np.sort(nmp_gross)\n",
        "fig, ax = plt.subplots()\n",
        "ax.hist(nmp_gross_sorted)\n",
        "ax.set_xlabel('Gross (mln $)')\n",
        "ax.set_ylabel('Frequency')\n",
        "ax.set_title('Visual checking data on being normal')\n",
        "ax.grid(True)\n",
        "pyplot.show()"
      ],
      "execution_count": null,
      "outputs": [
        {
          "output_type": "display_data",
          "data": {
            "image/png": "[encoded data removed]",
            "text/plain": [
              "<Figure size 432x288 with 1 Axes>"
            ]
          },
          "metadata": {
            "tags": [],
            "needs_background": "light"
          }
        }
      ]
    },
    {
      "cell_type": "code",
      "metadata": {
        "colab": {
          "base_uri": "https://localhost:8080/"
        },
        "id": "T5WO416fY8En",
        "outputId": "83ba6229-c646-40ae-efb8-aa3b619c0bcb"
      },
      "source": [
        "type(nmp_gross)"
      ],
      "execution_count": null,
      "outputs": [
        {
          "output_type": "execute_result",
          "data": {
            "text/plain": [
              "numpy.ndarray"
            ]
          },
          "metadata": {
            "tags": []
          },
          "execution_count": 68
        }
      ]
    },
    {
      "cell_type": "markdown",
      "metadata": {
        "id": "VU0mkGVqNYto"
      },
      "source": [
        "Как мы видим, на графике ничего похожего на \"горку\" или \"колокол\" нет. Значит, данные нормальными не являются."
      ]
    },
    {
      "cell_type": "code",
      "metadata": {
        "colab": {
          "base_uri": "https://localhost:8080/",
          "height": 295
        },
        "id": "8uwYSY8YKnY8",
        "outputId": "84e2cf1d-7e3a-4b1f-ec66-970996f731c8"
      },
      "source": [
        "nmp_year_sorted = np.sort(nmp_year)\n",
        "fig, ax = plt.subplots()\n",
        "ax.hist(nmp_year_sorted)\n",
        "ax.set_xlabel('Years')\n",
        "ax.set_ylabel('Frequency')\n",
        "ax.set_title('Visual checking data on being normal')\n",
        "ax.grid(True)\n",
        "pyplot.show()"
      ],
      "execution_count": null,
      "outputs": [
        {
          "output_type": "display_data",
          "data": {
            "image/png": "[encoded data removed]",
            "text/plain": [
              "<Figure size 432x288 with 1 Axes>"
            ]
          },
          "metadata": {
            "tags": [],
            "needs_background": "light"
          }
        }
      ]
    },
    {
      "cell_type": "code",
      "metadata": {
        "colab": {
          "base_uri": "https://localhost:8080/"
        },
        "id": "u3xpOfeJZDKT",
        "outputId": "69383846-1b3f-48ab-ca7f-a489a82ed310"
      },
      "source": [
        "type(nmp_year)"
      ],
      "execution_count": null,
      "outputs": [
        {
          "output_type": "execute_result",
          "data": {
            "text/plain": [
              "numpy.ndarray"
            ]
          },
          "metadata": {
            "tags": []
          },
          "execution_count": 69
        }
      ]
    },
    {
      "cell_type": "markdown",
      "metadata": {
        "id": "1w-P1KW0N-Ry"
      },
      "source": [
        "Как мы видим, график отдаленно похож на \"горку\" или \"колокол\". Значит, данные вполне могут быть нормальными."
      ]
    },
    {
      "cell_type": "markdown",
      "metadata": {
        "id": "yno8aIOhN_U1"
      },
      "source": [
        "***График QQ***"
      ]
    },
    {
      "cell_type": "code",
      "metadata": {
        "colab": {
          "base_uri": "https://localhost:8080/",
          "height": 295
        },
        "id": "ogZBkJdSOWVv",
        "outputId": "57b2457a-a9e2-48c4-b629-41fe340a8ab5"
      },
      "source": [
        "from statsmodels.graphics.gofplots import qqplot\n",
        "from matplotlib import pyplot\n",
        "\n",
        "qqplot(nmp_gross_sorted, line = 's')\n",
        "pyplot.title('Visual checking data (Gross (mln $)) on being normal')\n",
        "pyplot.show()"
      ],
      "execution_count": null,
      "outputs": [
        {
          "output_type": "display_data",
          "data": {
            "image/png": "[encoded data removed]",
            "text/plain": [
              "<Figure size 432x288 with 1 Axes>"
            ]
          },
          "metadata": {
            "tags": [],
            "needs_background": "light"
          }
        }
      ]
    },
    {
      "cell_type": "markdown",
      "metadata": {
        "id": "1hjac7jFQT_Z"
      },
      "source": [
        "Как мы видим, некоторые данные находятся над линией, некоторые - под ней, то есть распределение неравное, а данные не нормальные"
      ]
    },
    {
      "cell_type": "code",
      "metadata": {
        "colab": {
          "base_uri": "https://localhost:8080/",
          "height": 295
        },
        "id": "TFsftzvyQrxu",
        "outputId": "6443610c-8050-4dc6-b906-471a95ad7ed4"
      },
      "source": [
        "from statsmodels.graphics.gofplots import qqplot\n",
        "from matplotlib import pyplot\n",
        "\n",
        "qqplot(nmp_year_sorted, line = 's')\n",
        "pyplot.title('Visual checking data (Years) on being normal')\n",
        "pyplot.show()"
      ],
      "execution_count": null,
      "outputs": [
        {
          "output_type": "display_data",
          "data": {
            "image/png": "[encoded data removed]",
            "text/plain": [
              "<Figure size 432x288 with 1 Axes>"
            ]
          },
          "metadata": {
            "tags": [],
            "needs_background": "light"
          }
        }
      ]
    },
    {
      "cell_type": "markdown",
      "metadata": {
        "id": "w5zLWgSNRFO4"
      },
      "source": [
        "Распределение данных о годах очень близко к нормальному, тк данные располагаются достаточно близко к линии нормального распределения"
      ]
    },
    {
      "cell_type": "markdown",
      "metadata": {
        "id": "jyogwi0JRP3f"
      },
      "source": [
        "**Статистические тесты нормальности**"
      ]
    },
    {
      "cell_type": "markdown",
      "metadata": {
        "id": "e8jbUlocRZWm"
      },
      "source": [
        "***Тест Шапиро-Вилка***"
      ]
    },
    {
      "cell_type": "code",
      "metadata": {
        "colab": {
          "base_uri": "https://localhost:8080/"
        },
        "id": "msF4T0s4Rflm",
        "outputId": "2aeca594-40d5-4330-dab3-ae30817bef54"
      },
      "source": [
        "from scipy.stats import shapiro\n",
        "\n",
        "stat, p = shapiro(nmp_gross_sorted)\n",
        "print('Statistics=%.3f, p = %.3f' % (stat, p))\n",
        "\n",
        "alpha = 0.05\n",
        "if p > alpha:\n",
        "  print('Sample looks Gaussian (fail to reject HO)')\n",
        "else:\n",
        "  print('Sample does not look Gaussian (reject HO)')"
      ],
      "execution_count": null,
      "outputs": [
        {
          "output_type": "stream",
          "text": [
            "Statistics=0.820, p = 0.000\n",
            "Sample does not look Gaussian (reject HO)\n"
          ],
          "name": "stdout"
        }
      ]
    },
    {
      "cell_type": "markdown",
      "metadata": {
        "id": "VSqzwCCyVejn"
      },
      "source": [
        "Тест не прошел. Метод Шапиро-Уилка показал, что наши данные по прибыльности нормальными не являются."
      ]
    },
    {
      "cell_type": "code",
      "metadata": {
        "colab": {
          "base_uri": "https://localhost:8080/"
        },
        "id": "i4QemBSkVp4p",
        "outputId": "9b892f86-3f25-4da5-90f3-204d8566f30d"
      },
      "source": [
        "from scipy.stats import shapiro\n",
        "\n",
        "stat, p = shapiro(nmp_year_sorted)\n",
        "print('Statistics=%.3f, p = %.3f' % (stat, p))\n",
        "\n",
        "alpha = 0.05\n",
        "if p > alpha:\n",
        "  print('Sample looks Gaussian (fail to reject HO)')\n",
        "else:\n",
        "  print('Sample does not look Gaussian (reject HO)')"
      ],
      "execution_count": null,
      "outputs": [
        {
          "output_type": "stream",
          "text": [
            "Statistics=0.971, p = 0.566\n",
            "Sample looks Gaussian (fail to reject HO)\n"
          ],
          "name": "stdout"
        }
      ]
    },
    {
      "cell_type": "markdown",
      "metadata": {
        "id": "dbHoM8csVyQk"
      },
      "source": [
        "А вот данные годов прошли тест Шапиро-Уилка и являются нормальными."
      ]
    },
    {
      "cell_type": "markdown",
      "metadata": {
        "id": "aKa9CzWBV6Lk"
      },
      "source": [
        "***Тест д'Агостино на K ^ 2***"
      ]
    },
    {
      "cell_type": "code",
      "metadata": {
        "colab": {
          "base_uri": "https://localhost:8080/"
        },
        "id": "gqpOEgZSWG_G",
        "outputId": "e2421743-2833-42e1-dab7-7e0280e5abe1"
      },
      "source": [
        "from scipy.stats import normaltest\n",
        "\n",
        "stat, p = normaltest(nmp_gross_sorted)\n",
        "print('Statistics=%.3f, p = %.3f' % (stat, p))\n",
        "\n",
        "alpha = 0.05\n",
        "if p > alpha:\n",
        "  print('Sample looks Gaussian (fail to reject HO)')\n",
        "else:\n",
        "  print('Sample does not look Gaussian (reject HO)')"
      ],
      "execution_count": null,
      "outputs": [
        {
          "output_type": "stream",
          "text": [
            "Statistics=13.588, p = 0.001\n",
            "Sample does not look Gaussian (reject HO)\n"
          ],
          "name": "stdout"
        }
      ]
    },
    {
      "cell_type": "markdown",
      "metadata": {
        "id": "HU0fKwe0W3c8"
      },
      "source": [
        "Тест не прошел. Метод д'Агостино на K ^ 2 показал, что наши данные по прибыльности нормальными не являются."
      ]
    },
    {
      "cell_type": "code",
      "metadata": {
        "colab": {
          "base_uri": "https://localhost:8080/"
        },
        "id": "iEb87ECQW-AN",
        "outputId": "d3f64562-50a9-426b-b12c-ce75f6061df0"
      },
      "source": [
        "from scipy.stats import normaltest\n",
        "\n",
        "stat, p = normaltest(nmp_year_sorted)\n",
        "print('Statistics=%.3f, p = %.3f' % (stat, p))\n",
        "\n",
        "alpha = 0.05\n",
        "if p > alpha:\n",
        "  print('Sample looks Gaussian (fail to reject HO)')\n",
        "else:\n",
        "  print('Sample does not look Gaussian (reject HO)')"
      ],
      "execution_count": null,
      "outputs": [
        {
          "output_type": "stream",
          "text": [
            "Statistics=1.499, p = 0.473\n",
            "Sample looks Gaussian (fail to reject HO)\n"
          ],
          "name": "stdout"
        }
      ]
    },
    {
      "cell_type": "markdown",
      "metadata": {
        "id": "d_N4srSXXR5N"
      },
      "source": [
        "А вот данные годов прошли тест д'Агостино на K ^ 2 и являются нормальными."
      ]
    },
    {
      "cell_type": "markdown",
      "metadata": {
        "id": "EhKw1xOEXX9w"
      },
      "source": [
        "***Тест Андерсона-Дарлинга***"
      ]
    },
    {
      "cell_type": "code",
      "metadata": {
        "colab": {
          "base_uri": "https://localhost:8080/"
        },
        "id": "sbqegsU8Xk7D",
        "outputId": "fd97aba0-d1c8-4742-833f-f12e079118c9"
      },
      "source": [
        "from scipy.stats import anderson\n",
        "\n",
        "result = anderson(nmp_gross_sorted)\n",
        "print('Statistic: %.3f' % result.statistic)\n",
        "\n",
        "p = 0\n",
        "for i in range(len(result.critical_values)):\n",
        "  sl, cv = result.significance_level[i], result.critical_values[i]\n",
        "  if result.statistic < result.critical_values[i]:\n",
        "    print('%.3f: %.3f, data looks normal (fail to reject HO)' % (sl, cv))\n",
        "  else:\n",
        "    print('%.3f: %.3f, data does not look normal (reject HO)' % (sl, cv))"
      ],
      "execution_count": null,
      "outputs": [
        {
          "output_type": "stream",
          "text": [
            "Statistic: 1.799\n",
            "15.000: 0.521, data does not look normal (reject HO)\n",
            "10.000: 0.593, data does not look normal (reject HO)\n",
            "5.000: 0.712, data does not look normal (reject HO)\n",
            "2.500: 0.830, data does not look normal (reject HO)\n",
            "1.000: 0.988, data does not look normal (reject HO)\n"
          ],
          "name": "stdout"
        }
      ]
    },
    {
      "cell_type": "markdown",
      "metadata": {
        "id": "gkjguJSBX-bC"
      },
      "source": [
        "Тест не прошел. Метод Андерсона-Дарлинга показал, что наши данные по прибыльности нормальными не являются."
      ]
    },
    {
      "cell_type": "code",
      "metadata": {
        "colab": {
          "base_uri": "https://localhost:8080/"
        },
        "id": "t43Ho8XFYFGM",
        "outputId": "b49cb236-1411-4ceb-d901-62304398a06d"
      },
      "source": [
        "from scipy.stats import anderson\n",
        "\n",
        "result = anderson(nmp_year_sorted)\n",
        "print('Statistic: %.3f' % result.statistic)\n",
        "\n",
        "p = 0\n",
        "for i in range(len(result.critical_values)):\n",
        "  sl, cv = result.significance_level[i], result.critical_values[i]\n",
        "  if result.statistic < result.critical_values[i]:\n",
        "    print('%.3f: %.3f, data looks normal (fail to reject HO)' % (sl, cv))\n",
        "  else:\n",
        "    print('%.3f: %.3f, data does not look normal (reject HO)' % (sl, cv))"
      ],
      "execution_count": null,
      "outputs": [
        {
          "output_type": "stream",
          "text": [
            "Statistic: 0.257\n",
            "15.000: 0.521, data looks normal (fail to reject HO)\n",
            "10.000: 0.593, data looks normal (fail to reject HO)\n",
            "5.000: 0.712, data looks normal (fail to reject HO)\n",
            "2.500: 0.830, data looks normal (fail to reject HO)\n",
            "1.000: 0.988, data looks normal (fail to reject HO)\n"
          ],
          "name": "stdout"
        }
      ]
    },
    {
      "cell_type": "markdown",
      "metadata": {
        "id": "AX5ibDMVYN3x"
      },
      "source": [
        "А вот данные годов прошли тест Андерсона-Дарлинга и являются нормальными."
      ]
    },
    {
      "cell_type": "markdown",
      "metadata": {
        "id": "2OKja8ykYS9o"
      },
      "source": [
        "# ***ВЫВОД***"
      ]
    },
    {
      "cell_type": "markdown",
      "metadata": {
        "id": "br07IGX8YZop"
      },
      "source": [
        "Тесты и графики единогласно показали, что данные по прибыльности - не прошли проверку на нормальность, а данные по годам прошли и являются нормальными."
      ]
    }
  ]
}